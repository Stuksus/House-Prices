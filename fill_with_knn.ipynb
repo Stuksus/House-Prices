{
 "cells": [
  {
   "cell_type": "code",
   "execution_count": 1,
   "metadata": {},
   "outputs": [],
   "source": [
    "#loading libraries\n",
    "import pandas as pd\n",
    "import matplotlib.pyplot as plt\n",
    "import numpy as np\n",
    "import seaborn as sns\n",
    "from sklearn.preprocessing import LabelEncoder\n",
    "#import the dataset\n",
    "frame=pd.read_csv('train.csv')\n",
    "pd.set_option('display.max.columns',100)\n",
    "pd.set_option('display.max.rows',90)"
   ]
  },
  {
   "cell_type": "code",
   "execution_count": 2,
   "metadata": {},
   "outputs": [],
   "source": [
    "frame.drop(['Id'],axis=1,inplace=True)"
   ]
  },
  {
   "cell_type": "code",
   "execution_count": 3,
   "metadata": {},
   "outputs": [],
   "source": [
    "frame.fillna(frame.mean(),inplace=True)"
   ]
  },
  {
   "cell_type": "code",
   "execution_count": 4,
   "metadata": {},
   "outputs": [],
   "source": [
    "frame.drop(['PoolQC','MiscFeature','Fence','Alley',\"OverallQual\",\"YearBuilt\",\"TotalBsmtSF\",\"GarageCars\",\"GrLivArea\"],axis=1,inplace=True)"
   ]
  },
  {
   "cell_type": "code",
   "execution_count": 5,
   "metadata": {},
   "outputs": [
    {
     "name": "stdout",
     "output_type": "stream",
     "text": [
      "['MSZoning', 'Street', 'LotShape', 'LandContour', 'Utilities', 'LotConfig', 'LandSlope', 'Neighborhood', 'Condition1', 'Condition2', 'BldgType', 'HouseStyle', 'RoofStyle', 'RoofMatl', 'Exterior1st', 'Exterior2nd', 'MasVnrType', 'ExterQual', 'ExterCond', 'Foundation', 'BsmtQual', 'BsmtCond', 'BsmtExposure', 'BsmtFinType1', 'BsmtFinType2', 'Heating', 'HeatingQC', 'CentralAir', 'Electrical', 'KitchenQual', 'Functional', 'FireplaceQu', 'GarageType', 'GarageFinish', 'GarageQual', 'GarageCond', 'PavedDrive', 'SaleType', 'SaleCondition'] \n",
      "\n",
      "\n",
      "\n",
      "['MSSubClass', 'LotFrontage', 'LotArea', 'OverallCond', 'YearRemodAdd', 'MasVnrArea', 'BsmtFinSF1', 'BsmtFinSF2', 'BsmtUnfSF', '1stFlrSF', '2ndFlrSF', 'LowQualFinSF', 'BsmtFullBath', 'BsmtHalfBath', 'FullBath', 'HalfBath', 'BedroomAbvGr', 'KitchenAbvGr', 'TotRmsAbvGrd', 'Fireplaces', 'GarageYrBlt', 'GarageArea', 'WoodDeckSF', 'OpenPorchSF', 'EnclosedPorch', '3SsnPorch', 'ScreenPorch', 'PoolArea', 'MiscVal', 'MoSold', 'YrSold', 'SalePrice']\n"
     ]
    }
   ],
   "source": [
    "#get name columns with numeric and object types \\n\",\n",
    "def get_object_columns(dataframe):\n",
    "    object_columns=[columns_name for columns_name in dataframe.columns if dataframe[columns_name].dtypes == object]\n",
    "    return object_columns\n",
    "def get_numric_columns(dataframe):\n",
    "    numeric=[columns_name for columns_name in dataframe.columns if dataframe[columns_name].dtypes != object]\n",
    "    return numeric\n",
    "print(get_object_columns(frame),'\\n'*3)\n",
    "print(get_numric_columns(frame))"
   ]
  },
  {
   "cell_type": "code",
   "execution_count": 6,
   "metadata": {},
   "outputs": [],
   "source": [
    "def find_KNN_for_fillna(dataframe):\n",
    "    def dist(first_obj, second_obj):  # растояние(евклидова метрика) между объектами\n",
    "        first_obj = list(first_obj)\n",
    "        second_obj = list(second_obj)\n",
    "        dist = 0\n",
    "        for i in range(len(first_obj)):\n",
    "            #             print(first_obj[i],'first')\n",
    "            #             print(second_obj[i],'second')\n",
    "            dist += (float(first_obj[i]) - float(second_obj[i])) ** 2\n",
    "        dist = dist ** 0.5\n",
    "        #         print(first_obj)\n",
    "        #         print(np.array(first_obj,dtype=int))\n",
    "        #         print(second_obj)\n",
    "        #        dist = (sum((np.array(first_obj) - second_obj) ** 2)) ** 0.5\n",
    "        return dist\n",
    "\n",
    "    def new_dataframe(name_column, dataframe):  # создает новый датафрейм, где не содержится NaN в целевом столбце\n",
    "        dataset = pd.DataFrame([dataframe.iloc[i] for i, res in enumerate(dataframe[name_column]) if res is not np.nan])\n",
    "        dataset.dropna(inplace=True)\n",
    "        return dataset\n",
    "\n",
    "    def preparing_data(global_data, dataframe, column_number,\n",
    "                       row_number):  # подготовка всей таблицы к KNN и получение тестового объекта\n",
    "        test_object = pd.DataFrame(global_data.iloc[row_number])\n",
    "        all_headers = dataframe.columns.values\n",
    "        null_mass = test_object.isnull()\n",
    "        null_mass = [i[0] for i in np.array(null_mass)]\n",
    "        mult = null_mass * np.array(all_headers)\n",
    "        columns_to_del = [i for i in mult if i != \"\"]\n",
    "        column_class = dataframe[column_number]\n",
    "        data = pd.DataFrame(dataframe.drop(columns_to_del + [column_number], axis=1))\n",
    "        test_object = test_object.drop(columns_to_del)\n",
    "        test_object = [i[0] for i in np.array(test_object)]\n",
    "        total = []\n",
    "        if len(data) == len(column_class):\n",
    "            for i in range(len(data)):\n",
    "                total.append([list(data.iloc[i]), np.array(column_class)[i]])\n",
    "        else:\n",
    "            print(\"OMG\")\n",
    "\n",
    "        return total, test_object\n",
    "\n",
    "    def encoding(dataframe):\n",
    "        unique_cat = []\n",
    "        obj_col = get_object_columns(dataframe)\n",
    "        for i in obj_col:  # находим уникальные значения в каждом столбце\n",
    "            unique_cat += dataframe[i].unique().tolist()\n",
    "        while np.nan in unique_cat:\n",
    "            ind = unique_cat.index(np.nan)\n",
    "            unique_cat.pop(ind)\n",
    "        encoder = LabelEncoder()  # кодируем полученные значения и заменяим их\n",
    "        encoder.fit(unique_cat)\n",
    "        for column in obj_col:\n",
    "            for row in range(len(dataframe)):\n",
    "                if dataframe[column][row] is not np.nan:\n",
    "                    dataframe[column][row] = encoder.transform([dataframe[column][row]])[0]\n",
    "        return dataframe, encoder\n",
    "\n",
    "    def nn(train_data, test_point):  # функция ищет ближайшего соседа, а затем получает иго искомое значение\n",
    "        test_dist = [[dist(test_point, data[0]), data[1]] for data in train_data]\n",
    "        res = sorted(test_dist)[0:1][0][1]\n",
    "        return res\n",
    "\n",
    "    def decoding(encode_object, res):  # Декодирование результирующей таблицы\n",
    "        answer = encode_object.inverse_transform([res])\n",
    "        return answer\n",
    "\n",
    "    count = sum(dataframe.isnull().sum())\n",
    "    df, encod = encoding(dataframe)\n",
    "    countful = count\n",
    "    while count > 0:\n",
    "        for column in dataframe:\n",
    "            for row in range(len(dataframe)):\n",
    "                if dataframe[column][row] is np.nan:\n",
    "                    new = new_dataframe(column, df)\n",
    "                    train_zip, test_obj = preparing_data(df, new, column, row)\n",
    "                    result=nn(train_zip,test_obj)\n",
    "                    result=decoding(encod,result)\n",
    "                    dataframe[column][row]=result\n",
    "        count = sum(dataframe.isnull().sum())\n",
    "    #         print(countful-count,\"из\",countful)\n",
    "\n",
    "    return dataframe\n"
   ]
  },
  {
   "cell_type": "code",
   "execution_count": 7,
   "metadata": {},
   "outputs": [
    {
     "name": "stderr",
     "output_type": "stream",
     "text": [
      "c:\\users\\anton\\appdata\\local\\programs\\python\\python37-32\\lib\\site-packages\\ipykernel_launcher.py:56: SettingWithCopyWarning: \n",
      "A value is trying to be set on a copy of a slice from a DataFrame\n",
      "\n",
      "See the caveats in the documentation: http://pandas.pydata.org/pandas-docs/stable/user_guide/indexing.html#returning-a-view-versus-a-copy\n",
      "c:\\users\\anton\\appdata\\local\\programs\\python\\python37-32\\lib\\site-packages\\ipykernel_launcher.py:79: SettingWithCopyWarning: \n",
      "A value is trying to be set on a copy of a slice from a DataFrame\n",
      "\n",
      "See the caveats in the documentation: http://pandas.pydata.org/pandas-docs/stable/user_guide/indexing.html#returning-a-view-versus-a-copy\n"
     ]
    },
    {
     "ename": "ValueError",
     "evalue": "could not convert string to float: 'BrkFace'",
     "output_type": "error",
     "traceback": [
      "\u001b[1;31m---------------------------------------------------------------------------\u001b[0m",
      "\u001b[1;31mValueError\u001b[0m                                Traceback (most recent call last)",
      "\u001b[1;32m<ipython-input-7-d26270cfaeb0>\u001b[0m in \u001b[0;36m<module>\u001b[1;34m\u001b[0m\n\u001b[1;32m----> 1\u001b[1;33m \u001b[0mfind_KNN_for_fillna\u001b[0m\u001b[1;33m(\u001b[0m\u001b[0mframe\u001b[0m\u001b[1;33m)\u001b[0m\u001b[1;33m\u001b[0m\u001b[1;33m\u001b[0m\u001b[0m\n\u001b[0m",
      "\u001b[1;32m<ipython-input-6-5710943054a7>\u001b[0m in \u001b[0;36mfind_KNN_for_fillna\u001b[1;34m(dataframe)\u001b[0m\n\u001b[0;32m     75\u001b[0m                     \u001b[0mnew\u001b[0m \u001b[1;33m=\u001b[0m \u001b[0mnew_dataframe\u001b[0m\u001b[1;33m(\u001b[0m\u001b[0mcolumn\u001b[0m\u001b[1;33m,\u001b[0m \u001b[0mdf\u001b[0m\u001b[1;33m)\u001b[0m\u001b[1;33m\u001b[0m\u001b[1;33m\u001b[0m\u001b[0m\n\u001b[0;32m     76\u001b[0m                     \u001b[0mtrain_zip\u001b[0m\u001b[1;33m,\u001b[0m \u001b[0mtest_obj\u001b[0m \u001b[1;33m=\u001b[0m \u001b[0mpreparing_data\u001b[0m\u001b[1;33m(\u001b[0m\u001b[0mdf\u001b[0m\u001b[1;33m,\u001b[0m \u001b[0mnew\u001b[0m\u001b[1;33m,\u001b[0m \u001b[0mcolumn\u001b[0m\u001b[1;33m,\u001b[0m \u001b[0mrow\u001b[0m\u001b[1;33m)\u001b[0m\u001b[1;33m\u001b[0m\u001b[1;33m\u001b[0m\u001b[0m\n\u001b[1;32m---> 77\u001b[1;33m                     \u001b[0mresult\u001b[0m\u001b[1;33m=\u001b[0m\u001b[0mnn\u001b[0m\u001b[1;33m(\u001b[0m\u001b[0mtrain_zip\u001b[0m\u001b[1;33m,\u001b[0m\u001b[0mtest_obj\u001b[0m\u001b[1;33m)\u001b[0m\u001b[1;33m\u001b[0m\u001b[1;33m\u001b[0m\u001b[0m\n\u001b[0m\u001b[0;32m     78\u001b[0m                     \u001b[0mresult\u001b[0m\u001b[1;33m=\u001b[0m\u001b[0mdecoding\u001b[0m\u001b[1;33m(\u001b[0m\u001b[0mencod\u001b[0m\u001b[1;33m,\u001b[0m\u001b[0mresult\u001b[0m\u001b[1;33m)\u001b[0m\u001b[1;33m\u001b[0m\u001b[1;33m\u001b[0m\u001b[0m\n\u001b[0;32m     79\u001b[0m                     \u001b[0mdataframe\u001b[0m\u001b[1;33m[\u001b[0m\u001b[0mcolumn\u001b[0m\u001b[1;33m]\u001b[0m\u001b[1;33m[\u001b[0m\u001b[0mrow\u001b[0m\u001b[1;33m]\u001b[0m\u001b[1;33m=\u001b[0m\u001b[0mresult\u001b[0m\u001b[1;33m\u001b[0m\u001b[1;33m\u001b[0m\u001b[0m\n",
      "\u001b[1;32m<ipython-input-6-5710943054a7>\u001b[0m in \u001b[0;36mnn\u001b[1;34m(train_data, test_point)\u001b[0m\n\u001b[0;32m     58\u001b[0m \u001b[1;33m\u001b[0m\u001b[0m\n\u001b[0;32m     59\u001b[0m     \u001b[1;32mdef\u001b[0m \u001b[0mnn\u001b[0m\u001b[1;33m(\u001b[0m\u001b[0mtrain_data\u001b[0m\u001b[1;33m,\u001b[0m \u001b[0mtest_point\u001b[0m\u001b[1;33m)\u001b[0m\u001b[1;33m:\u001b[0m  \u001b[1;31m# функция ищет ближайшего соседа, а затем получает иго искомое значение\u001b[0m\u001b[1;33m\u001b[0m\u001b[1;33m\u001b[0m\u001b[0m\n\u001b[1;32m---> 60\u001b[1;33m         \u001b[0mtest_dist\u001b[0m \u001b[1;33m=\u001b[0m \u001b[1;33m[\u001b[0m\u001b[1;33m[\u001b[0m\u001b[0mdist\u001b[0m\u001b[1;33m(\u001b[0m\u001b[0mtest_point\u001b[0m\u001b[1;33m,\u001b[0m \u001b[0mdata\u001b[0m\u001b[1;33m[\u001b[0m\u001b[1;36m0\u001b[0m\u001b[1;33m]\u001b[0m\u001b[1;33m)\u001b[0m\u001b[1;33m,\u001b[0m \u001b[0mdata\u001b[0m\u001b[1;33m[\u001b[0m\u001b[1;36m1\u001b[0m\u001b[1;33m]\u001b[0m\u001b[1;33m]\u001b[0m \u001b[1;32mfor\u001b[0m \u001b[0mdata\u001b[0m \u001b[1;32min\u001b[0m \u001b[0mtrain_data\u001b[0m\u001b[1;33m]\u001b[0m\u001b[1;33m\u001b[0m\u001b[1;33m\u001b[0m\u001b[0m\n\u001b[0m\u001b[0;32m     61\u001b[0m         \u001b[0mres\u001b[0m \u001b[1;33m=\u001b[0m \u001b[0msorted\u001b[0m\u001b[1;33m(\u001b[0m\u001b[0mtest_dist\u001b[0m\u001b[1;33m)\u001b[0m\u001b[1;33m[\u001b[0m\u001b[1;36m0\u001b[0m\u001b[1;33m:\u001b[0m\u001b[1;36m1\u001b[0m\u001b[1;33m]\u001b[0m\u001b[1;33m[\u001b[0m\u001b[1;36m0\u001b[0m\u001b[1;33m]\u001b[0m\u001b[1;33m[\u001b[0m\u001b[1;36m1\u001b[0m\u001b[1;33m]\u001b[0m\u001b[1;33m\u001b[0m\u001b[1;33m\u001b[0m\u001b[0m\n\u001b[0;32m     62\u001b[0m         \u001b[1;32mreturn\u001b[0m \u001b[0mres\u001b[0m\u001b[1;33m\u001b[0m\u001b[1;33m\u001b[0m\u001b[0m\n",
      "\u001b[1;32m<ipython-input-6-5710943054a7>\u001b[0m in \u001b[0;36m<listcomp>\u001b[1;34m(.0)\u001b[0m\n\u001b[0;32m     58\u001b[0m \u001b[1;33m\u001b[0m\u001b[0m\n\u001b[0;32m     59\u001b[0m     \u001b[1;32mdef\u001b[0m \u001b[0mnn\u001b[0m\u001b[1;33m(\u001b[0m\u001b[0mtrain_data\u001b[0m\u001b[1;33m,\u001b[0m \u001b[0mtest_point\u001b[0m\u001b[1;33m)\u001b[0m\u001b[1;33m:\u001b[0m  \u001b[1;31m# функция ищет ближайшего соседа, а затем получает иго искомое значение\u001b[0m\u001b[1;33m\u001b[0m\u001b[1;33m\u001b[0m\u001b[0m\n\u001b[1;32m---> 60\u001b[1;33m         \u001b[0mtest_dist\u001b[0m \u001b[1;33m=\u001b[0m \u001b[1;33m[\u001b[0m\u001b[1;33m[\u001b[0m\u001b[0mdist\u001b[0m\u001b[1;33m(\u001b[0m\u001b[0mtest_point\u001b[0m\u001b[1;33m,\u001b[0m \u001b[0mdata\u001b[0m\u001b[1;33m[\u001b[0m\u001b[1;36m0\u001b[0m\u001b[1;33m]\u001b[0m\u001b[1;33m)\u001b[0m\u001b[1;33m,\u001b[0m \u001b[0mdata\u001b[0m\u001b[1;33m[\u001b[0m\u001b[1;36m1\u001b[0m\u001b[1;33m]\u001b[0m\u001b[1;33m]\u001b[0m \u001b[1;32mfor\u001b[0m \u001b[0mdata\u001b[0m \u001b[1;32min\u001b[0m \u001b[0mtrain_data\u001b[0m\u001b[1;33m]\u001b[0m\u001b[1;33m\u001b[0m\u001b[1;33m\u001b[0m\u001b[0m\n\u001b[0m\u001b[0;32m     61\u001b[0m         \u001b[0mres\u001b[0m \u001b[1;33m=\u001b[0m \u001b[0msorted\u001b[0m\u001b[1;33m(\u001b[0m\u001b[0mtest_dist\u001b[0m\u001b[1;33m)\u001b[0m\u001b[1;33m[\u001b[0m\u001b[1;36m0\u001b[0m\u001b[1;33m:\u001b[0m\u001b[1;36m1\u001b[0m\u001b[1;33m]\u001b[0m\u001b[1;33m[\u001b[0m\u001b[1;36m0\u001b[0m\u001b[1;33m]\u001b[0m\u001b[1;33m[\u001b[0m\u001b[1;36m1\u001b[0m\u001b[1;33m]\u001b[0m\u001b[1;33m\u001b[0m\u001b[1;33m\u001b[0m\u001b[0m\n\u001b[0;32m     62\u001b[0m         \u001b[1;32mreturn\u001b[0m \u001b[0mres\u001b[0m\u001b[1;33m\u001b[0m\u001b[1;33m\u001b[0m\u001b[0m\n",
      "\u001b[1;32m<ipython-input-6-5710943054a7>\u001b[0m in \u001b[0;36mdist\u001b[1;34m(first_obj, second_obj)\u001b[0m\n\u001b[0;32m      7\u001b[0m             \u001b[1;31m#             print(first_obj[i],'first')\u001b[0m\u001b[1;33m\u001b[0m\u001b[1;33m\u001b[0m\u001b[1;33m\u001b[0m\u001b[0m\n\u001b[0;32m      8\u001b[0m             \u001b[1;31m#             print(second_obj[i],'second')\u001b[0m\u001b[1;33m\u001b[0m\u001b[1;33m\u001b[0m\u001b[1;33m\u001b[0m\u001b[0m\n\u001b[1;32m----> 9\u001b[1;33m             \u001b[0mdist\u001b[0m \u001b[1;33m+=\u001b[0m \u001b[1;33m(\u001b[0m\u001b[0mfloat\u001b[0m\u001b[1;33m(\u001b[0m\u001b[0mfirst_obj\u001b[0m\u001b[1;33m[\u001b[0m\u001b[0mi\u001b[0m\u001b[1;33m]\u001b[0m\u001b[1;33m)\u001b[0m \u001b[1;33m-\u001b[0m \u001b[0mfloat\u001b[0m\u001b[1;33m(\u001b[0m\u001b[0msecond_obj\u001b[0m\u001b[1;33m[\u001b[0m\u001b[0mi\u001b[0m\u001b[1;33m]\u001b[0m\u001b[1;33m)\u001b[0m\u001b[1;33m)\u001b[0m \u001b[1;33m**\u001b[0m \u001b[1;36m2\u001b[0m\u001b[1;33m\u001b[0m\u001b[1;33m\u001b[0m\u001b[0m\n\u001b[0m\u001b[0;32m     10\u001b[0m         \u001b[0mdist\u001b[0m \u001b[1;33m=\u001b[0m \u001b[0mdist\u001b[0m \u001b[1;33m**\u001b[0m \u001b[1;36m0.5\u001b[0m\u001b[1;33m\u001b[0m\u001b[1;33m\u001b[0m\u001b[0m\n\u001b[0;32m     11\u001b[0m         \u001b[1;31m#         print(first_obj)\u001b[0m\u001b[1;33m\u001b[0m\u001b[1;33m\u001b[0m\u001b[1;33m\u001b[0m\u001b[0m\n",
      "\u001b[1;31mValueError\u001b[0m: could not convert string to float: 'BrkFace'"
     ]
    }
   ],
   "source": [
    "find_KNN_for_fillna(frame)"
   ]
  },
  {
   "cell_type": "code",
   "execution_count": null,
   "metadata": {},
   "outputs": [],
   "source": []
  }
 ],
 "metadata": {
  "kernelspec": {
   "display_name": "Python 3",
   "language": "python",
   "name": "python3"
  },
  "language_info": {
   "codemirror_mode": {
    "name": "ipython",
    "version": 3
   },
   "file_extension": ".py",
   "mimetype": "text/x-python",
   "name": "python",
   "nbconvert_exporter": "python",
   "pygments_lexer": "ipython3",
   "version": "3.7.4"
  }
 },
 "nbformat": 4,
 "nbformat_minor": 2
}
